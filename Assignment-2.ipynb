{
 "cells": [
  {
   "cell_type": "markdown",
   "id": "621fa250",
   "metadata": {},
   "source": [
    "1.\n",
    "True and False are the two values of the boolean data type"
   ]
  },
  {
   "cell_type": "markdown",
   "id": "2432730e",
   "metadata": {},
   "source": []
  },
  {
   "cell_type": "code",
   "execution_count": null,
   "id": "b8c4c3ea",
   "metadata": {},
   "outputs": [],
   "source": [
    "# It is written as:\n",
    "True\n",
    "False"
   ]
  },
  {
   "cell_type": "markdown",
   "id": "450a0128",
   "metadata": {},
   "source": [
    "2.\n",
    "and , or , and not are 3 boolean operator"
   ]
  },
  {
   "cell_type": "markdown",
   "id": "448d4045",
   "metadata": {},
   "source": [
    "3.\n",
    "and:\n",
    "or:\n",
    "not:"
   ]
  },
  {
   "cell_type": "markdown",
   "id": "23df3a55",
   "metadata": {},
   "source": [
    "4.\n",
    "(5>4) and (3 == 5) --> False\n",
    "\n",
    "not(5>4) --> False\n",
    "\n",
    "(5>4) or (3 == 5) --> True\n",
    "\n",
    "not ((5>4) or (3 == 5)) --> False\n",
    "\n",
    "(True and True) and (True == False) --> False\n",
    "\n",
    "(not False) or (not True) --> True"
   ]
  },
  {
   "cell_type": "markdown",
   "id": "bcbed23f",
   "metadata": {},
   "source": [
    "5.\n",
    "Equal to (==)\n",
    "Not equal to 1(!=)\n",
    "Greater than (>)\n",
    "Less than (<)\n",
    "Greater than or eaual to (>=)\n",
    "Less than or eaual to (<=)\n"
   ]
  },
  {
   "cell_type": "markdown",
   "id": "1dc3e9a1",
   "metadata": {},
   "source": [
    "6.\n",
    "Equal to (==) will have 2 equal sign where assignment operator(=) will have only one equal sign.\n",
    "\n",
    "Example:\n",
    "While comparing 2 values we will use equal to i.e, A==B.\n",
    "While assigning a value to a variable we will use assignement operator i.e, A=5, Name=\"Dushyanth\""
   ]
  },
  {
   "cell_type": "markdown",
   "id": "83b3513d",
   "metadata": {},
   "source": [
    "7.\n",
    "Block 1:\n",
    "print('eggs')\n",
    "\n",
    "Block 2:\n",
    "print('bacon')\n",
    "\n",
    "Block 3:\n",
    "print('ham')\n",
    "print('spam')\n",
    "print('spam')"
   ]
  },
  {
   "cell_type": "code",
   "execution_count": 6,
   "id": "33ba89b6",
   "metadata": {},
   "outputs": [
    {
     "name": "stdout",
     "output_type": "stream",
     "text": [
      "4\n",
      "Greetings!\n"
     ]
    }
   ],
   "source": [
    "spam=int(input())\n",
    "if (spam==1):\n",
    "    print('Hello')\n",
    "elif (spam==2):\n",
    "    print('Howdy')\n",
    "else:\n",
    "    print('Greetings!')\n"
   ]
  },
  {
   "cell_type": "markdown",
   "id": "b6be2568",
   "metadata": {},
   "source": [
    "9.\n",
    "CTRL + C"
   ]
  },
  {
   "cell_type": "markdown",
   "id": "9cb65fc7",
   "metadata": {},
   "source": [
    "10.\n",
    "When break keyword comes, it terminates the execution of the current loop and passes the control over the next loop or main body, whereas when continue keyword is encountered, it skips the current iteration and executes the very next iteration in the loop."
   ]
  },
  {
   "cell_type": "markdown",
   "id": "0b3436e6",
   "metadata": {},
   "source": [
    "11.\n",
    "There is no difference. range() function accepts 3 parameters start, stop, step. Start and step are optional and it will take 0 and 1 respectively as default value. Hence there is no difference between them."
   ]
  },
  {
   "cell_type": "code",
   "execution_count": 7,
   "id": "28685c3d",
   "metadata": {},
   "outputs": [
    {
     "name": "stdout",
     "output_type": "stream",
     "text": [
      "1\n",
      "2\n",
      "3\n",
      "4\n",
      "5\n",
      "6\n",
      "7\n",
      "8\n",
      "9\n",
      "10\n"
     ]
    }
   ],
   "source": [
    "12\n",
    "for i in range(1,11):\n",
    "    print(i)\n",
    "    "
   ]
  },
  {
   "cell_type": "code",
   "execution_count": 8,
   "id": "4725b143",
   "metadata": {},
   "outputs": [
    {
     "name": "stdout",
     "output_type": "stream",
     "text": [
      "1\n",
      "2\n",
      "3\n",
      "4\n",
      "5\n",
      "6\n",
      "7\n",
      "8\n",
      "9\n",
      "10\n"
     ]
    }
   ],
   "source": [
    "x=0\n",
    "while x<10:\n",
    "    print(x+1)\n",
    "    x+=1\n",
    "    "
   ]
  },
  {
   "cell_type": "markdown",
   "id": "8eb3fa8b",
   "metadata": {},
   "source": []
  }
 ],
 "metadata": {
  "kernelspec": {
   "display_name": "Python 3 (ipykernel)",
   "language": "python",
   "name": "python3"
  },
  "language_info": {
   "codemirror_mode": {
    "name": "ipython",
    "version": 3
   },
   "file_extension": ".py",
   "mimetype": "text/x-python",
   "name": "python",
   "nbconvert_exporter": "python",
   "pygments_lexer": "ipython3",
   "version": "3.9.12"
  }
 },
 "nbformat": 4,
 "nbformat_minor": 5
}
