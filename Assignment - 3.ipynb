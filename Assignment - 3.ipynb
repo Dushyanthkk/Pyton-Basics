{
  "nbformat": 4,
  "nbformat_minor": 0,
  "metadata": {
    "colab": {
      "name": "Untitled5.ipynb",
      "provenance": [],
      "collapsed_sections": []
    },
    "kernelspec": {
      "name": "python3",
      "display_name": "Python 3"
    },
    "language_info": {
      "name": "python"
    }
  },
  "cells": [
    {
      "cell_type": "code",
      "execution_count": null,
      "metadata": {
        "id": "8bOdWHjguA5J"
      },
      "outputs": [],
      "source": [
        ""
      ]
    },
    {
      "cell_type": "markdown",
      "source": [
        "1.\n",
        "Functions reduce the need for duplicate code. This makes programs shorter, easier to read, and easier to update.\n",
        "\n",
        "\n",
        "\n"
      ],
      "metadata": {
        "id": "1LP617MAuBnz"
      }
    },
    {
      "cell_type": "markdown",
      "source": [
        "2.\n",
        "When it is called"
      ],
      "metadata": {
        "id": "pM4k1IzfuzqD"
      }
    },
    {
      "cell_type": "markdown",
      "source": [
        "3.\n",
        "def keyword follwed by the function name with round bracket and colon"
      ],
      "metadata": {
        "id": "ZMspR5Inuwq5"
      }
    },
    {
      "cell_type": "markdown",
      "source": [
        "4.\n",
        "A function is procedure to achieve a particular result while function call is using this function to achive that task."
      ],
      "metadata": {
        "id": "qvdDGNuQuuIg"
      }
    },
    {
      "cell_type": "markdown",
      "source": [
        "5.\n",
        "We can have only one global Python scope per program execution. local scopes can be as many as we want"
      ],
      "metadata": {
        "id": "Ay0264SCurZi"
      }
    },
    {
      "cell_type": "markdown",
      "source": [
        "6.\n",
        "A local variable retains its value until the next time the function is called A local variable becomes undefined after the function call completes"
      ],
      "metadata": {
        "id": "uJ_yYfe6uoyC"
      }
    },
    {
      "cell_type": "markdown",
      "source": [
        "7.\n",
        "In general, a function takes arguments (if any), performs some operations, and returns a value (or object). The value that a function returns to the caller is generally known as the function's return value.\n",
        "Yes, it is possible to have a return value in an expression?"
      ],
      "metadata": {
        "id": "NMqZXsVGujmj"
      }
    },
    {
      "cell_type": "markdown",
      "source": [
        "8.\n",
        "None"
      ],
      "metadata": {
        "id": "7Z-lrT4yufiJ"
      }
    },
    {
      "cell_type": "markdown",
      "source": [
        "9.\n",
        "using the global keyword to declare which variables are global."
      ],
      "metadata": {
        "id": "tfOws1V8uca5"
      }
    },
    {
      "cell_type": "markdown",
      "source": [
        "10.\n",
        "NoneType"
      ],
      "metadata": {
        "id": "WrSUJPntuZCI"
      }
    },
    {
      "cell_type": "markdown",
      "source": [
        "11.\n",
        "imports a module named areallyourpetsnamederic"
      ],
      "metadata": {
        "id": "iv_Y3xyBuV4w"
      }
    },
    {
      "cell_type": "markdown",
      "source": [
        "12.\n",
        "bacon() will be a function and it can be called using spam.bacon()"
      ],
      "metadata": {
        "id": "ISy00-oEuOvQ"
      }
    },
    {
      "cell_type": "markdown",
      "source": [
        "13. \n",
        "error handling can be used to save the program from crashing"
      ],
      "metadata": {
        "id": "BbJLOkOJuGtg"
      }
    },
    {
      "cell_type": "markdown",
      "source": [
        "14.\n",
        "The try block is used to test a block of code for errors. The except block is used to handle the error."
      ],
      "metadata": {
        "id": "EwXpb36FuFLq"
      }
    }
  ]
}